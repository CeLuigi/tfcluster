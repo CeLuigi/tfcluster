{
 "cells": [
  {
   "cell_type": "code",
   "execution_count": null,
   "metadata": {},
   "outputs": [],
   "source": [
    "from clustering import MeanShift\n",
    "from clustering import KMeans\n",
    "from clustering import MiniBatchKMeans\n",
    "\n",
    "from utils import generate_random\n",
    "from utils import animated_plot\n",
    "from utils import plot\n",
    "from utils import animation_to_html\n",
    "\n",
    "import numpy as np\n",
    "\n",
    "from IPython.display import HTML"
   ]
  },
  {
   "cell_type": "code",
   "execution_count": null,
   "metadata": {},
   "outputs": [],
   "source": [
    "data = generate_random()"
   ]
  },
  {
   "cell_type": "markdown",
   "metadata": {},
   "source": [
    "## Mean Shift"
   ]
  },
  {
   "cell_type": "markdown",
   "metadata": {},
   "source": [
    "To apply clustering to a data, a cluster object has to be created, which is in this case a MeanShift instance. By invoking the object's fit method with the data (2D Numpy array) as parameter, the returned value will be the indexes of the clusters for the data points in the same order as it was provided in the input parameter."
   ]
  },
  {
   "cell_type": "code",
   "execution_count": null,
   "metadata": {},
   "outputs": [],
   "source": [
    "ms = MeanShift(kernel='gaussian', bandwidth=1)\n",
    "labels = ms.fit(data)\n",
    "plot(ms.history, data, labels, ms.centroids)"
   ]
  },
  {
   "cell_type": "markdown",
   "metadata": {},
   "source": [
    "To assign a cluster to new data point(s), the cluster object's predict method can be used. It will calculate the nearest centroid for each entry and return the labels, analogously to the fit method."
   ]
  },
  {
   "cell_type": "code",
   "execution_count": null,
   "metadata": {},
   "outputs": [],
   "source": [
    "x = np.array([[-10, -10], [-3, -3], [2, 2]])\n",
    "ms.predict(x)"
   ]
  },
  {
   "cell_type": "markdown",
   "metadata": {},
   "source": [
    "## K-Means"
   ]
  },
  {
   "cell_type": "code",
   "execution_count": null,
   "metadata": {},
   "outputs": [],
   "source": [
    "ms = KMeans(n_clusters=3)\n",
    "labels = ms.fit(data)\n",
    "\n",
    "plot(ms.history, data, labels, ms.centroids)"
   ]
  }
 ],
 "metadata": {
  "kernelspec": {
   "display_name": "Python 3",
   "language": "python",
   "name": "python3"
  },
  "language_info": {
   "codemirror_mode": {
    "name": "ipython",
    "version": 3
   },
   "file_extension": ".py",
   "mimetype": "text/x-python",
   "name": "python",
   "nbconvert_exporter": "python",
   "pygments_lexer": "ipython3",
   "version": "3.6.5"
  }
 },
 "nbformat": 4,
 "nbformat_minor": 1
}
